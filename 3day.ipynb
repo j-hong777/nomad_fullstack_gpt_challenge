{
 "cells": [
  {
   "cell_type": "code",
   "execution_count": null,
   "id": "3ad43aaa",
   "metadata": {},
   "outputs": [],
   "source": [
    "from langchain.memory import ConversationSummaryBufferMemory\n",
    "from langchain.chat_models import ChatOpenAI\n",
    "from langchain.schema.runnable import RunnablePassthrough\n",
    "from langchain.prompts import MessagesPlaceholder\n",
    "from langchain.prompts.few_shot import FewShotChatMessagePromptTemplate\n",
    "from langchain.prompts import ChatPromptTemplate\n",
    "\n",
    "llm = ChatOpenAI(\n",
    "    temperature=0.1,\n",
    "    streaming=True\n",
    ")\n",
    "\n",
    "examples = [\n",
    "    {\n",
    "        \"movie_name\": \"저스티스리그\",\n",
    "        \"answer\": \"\"\"\n",
    "        🦸‍♂️🦸‍♀🌍\"\"\"\n",
    "    },\n",
    "    {\n",
    "        \"movie_name\": \"아이언맨3\",\n",
    "        \"answer\": \"\"\"\n",
    "        🤖💥🦸‍♂️\"\"\"\n",
    "    },\n",
    "    {\n",
    "        \"movie_name\": \"대부\",\n",
    "        \"answer\": \"\"\"\n",
    "        👨‍👨‍👦🔫🍝\"\"\"\n",
    "    },\n",
    "    {\n",
    "        \"movie_name\": \"탑건\",\n",
    "        \"answer\": \"\"\"\n",
    "        🛩️👨‍✈️🔥\"\"\"\n",
    "    }\n",
    "]\n",
    "\n",
    "memory = ConversationSummaryBufferMemory(\n",
    "    llm=llm,\n",
    "    max_token_limit=120,\n",
    "    return_messages=True\n",
    ")\n",
    "example_prompt = ChatPromptTemplate.from_messages(\n",
    "    [\n",
    "        (\"human\", \"What do you know about {country}?\"),\n",
    "        (\"ai\", \"{movie_name} -> {answer}\"),\n",
    "    ]\n",
    ")\n",
    "prompt = ChatPromptTemplate.from_messages([\n",
    "    (\"system\", \"너는 영화 제목을 입력받으면 그 영화에 대한 세 개의 이모티콘으로 대답해주는 영화 전문가야.\"),\n",
    "    MessagesPlaceholder(variable_name=\"history\"),\n",
    "    (\"human\", \"{movie_name}에 대해 알고 있는 이모티콘을 알려줘.\")\n",
    "])\n",
    "\n",
    "\n",
    "example_prompt = FewShotChatMessagePromptTemplate(\n",
    "    example_prompt=example_prompt,\n",
    "    examples=examples\n",
    "    \n",
    ")\n",
    "\n",
    "def load_memory(_):\n",
    "    return memory.load_memory_variables({})[\"history\"]\n",
    "\n",
    "chain = RunnablePassthrough.assign(history=load_memory) | prompt | llm\n",
    "\n",
    "\n",
    "def invoke_chain(movie_name):\n",
    "    result = chain.invoke({\"movie_name\": movie_name})\n",
    "    memory.save_context(\n",
    "        {\"input\": movie_name},\n",
    "        {\"output\": result.content},\n",
    "    )\n",
    "    print(result)"
   ]
  },
  {
   "cell_type": "code",
   "execution_count": 25,
   "id": "ed0b2684",
   "metadata": {},
   "outputs": [
    {
     "name": "stdout",
     "output_type": "stream",
     "text": [
      "content='🦸\\u200d♂️💥🦹\\u200d♀️'\n"
     ]
    }
   ],
   "source": [
    "invoke_chain(\"저스티스리그\")"
   ]
  },
  {
   "cell_type": "code",
   "execution_count": 26,
   "id": "4f8d40bc",
   "metadata": {},
   "outputs": [
    {
     "name": "stdout",
     "output_type": "stream",
     "text": [
      "content='🔥🤖💥'\n"
     ]
    }
   ],
   "source": [
    "invoke_chain(\"아이언맨3\")"
   ]
  },
  {
   "cell_type": "code",
   "execution_count": 27,
   "id": "1f9f9010",
   "metadata": {},
   "outputs": [
    {
     "name": "stdout",
     "output_type": "stream",
     "text": [
      "content='🤔🎥🤖'\n"
     ]
    }
   ],
   "source": [
    "invoke_chain(\"내가 물어본 영화 제목을 말해줘\")"
   ]
  },
  {
   "cell_type": "code",
   "execution_count": null,
   "id": "3e887d21",
   "metadata": {},
   "outputs": [],
   "source": []
  }
 ],
 "metadata": {
  "kernelspec": {
   "display_name": "env",
   "language": "python",
   "name": "python3"
  },
  "language_info": {
   "codemirror_mode": {
    "name": "ipython",
    "version": 3
   },
   "file_extension": ".py",
   "mimetype": "text/x-python",
   "name": "python",
   "nbconvert_exporter": "python",
   "pygments_lexer": "ipython3",
   "version": "3.11.6"
  }
 },
 "nbformat": 4,
 "nbformat_minor": 5
}

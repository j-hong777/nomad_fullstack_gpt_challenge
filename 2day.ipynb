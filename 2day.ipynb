{
 "cells": [
  {
   "cell_type": "code",
   "execution_count": 3,
   "id": "8c6a712d",
   "metadata": {},
   "outputs": [
    {
     "name": "stdout",
     "output_type": "stream",
     "text": [
      "감독: 셰인 블랙 (Shane Black)\n",
      "        주요 출연진: 로버트 다우니 주니어 (Robert Downey Jr.) > 토니 스타크 / 아이언맨\n",
      "                    기네스 팰트로 (Gwyneth Paltrow) > 페퍼 포츠\n",
      "                    벤 킹슬리 (Ben Kingsley) > 맨다린\n",
      "                    돈 치들 (Don Cheadle) > 로드니 로즈 / 워머신\n",
      "        \n",
      "        제작 예산: 약 2억 0천만 달러 (200 million USD)\n",
      "        흥행 수익 (극장판 2013): 약 1억 2천 4백만 달러 (1.24 billion USD)\n",
      "        장르: 슈퍼히어로, 액션, SF\n",
      "        시놉시스: 토니 스타크는 아이언맨으로서의 책임과 과거의 실수로 인해 악몽에 시달리고 있습니다. 그의 세계는 또 다시 위기에 처하게 되는데, 신비한 테러리스트 맨다린이 세계평화를 위협합니다.\n",
      "                 토니는 자신의 힘을 다해 맨다린과의 대결에 나서지만, 예상치 못한 상황에 직면하게 됩니다. 페퍼 포츠와 로드니 로즈의 도움을 받아 토니는 자신의 내면과 과거를 직시하며 진정한 영웅으로 성장해 나가는 이야기를 그립니다."
     ]
    },
    {
     "data": {
      "text/plain": [
       "AIMessageChunk(content='감독: 셰인 블랙 (Shane Black)\\n        주요 출연진: 로버트 다우니 주니어 (Robert Downey Jr.) > 토니 스타크 / 아이언맨\\n                    기네스 팰트로 (Gwyneth Paltrow) > 페퍼 포츠\\n                    벤 킹슬리 (Ben Kingsley) > 맨다린\\n                    돈 치들 (Don Cheadle) > 로드니 로즈 / 워머신\\n        \\n        제작 예산: 약 2억 0천만 달러 (200 million USD)\\n        흥행 수익 (극장판 2013): 약 1억 2천 4백만 달러 (1.24 billion USD)\\n        장르: 슈퍼히어로, 액션, SF\\n        시놉시스: 토니 스타크는 아이언맨으로서의 책임과 과거의 실수로 인해 악몽에 시달리고 있습니다. 그의 세계는 또 다시 위기에 처하게 되는데, 신비한 테러리스트 맨다린이 세계평화를 위협합니다.\\n                 토니는 자신의 힘을 다해 맨다린과의 대결에 나서지만, 예상치 못한 상황에 직면하게 됩니다. 페퍼 포츠와 로드니 로즈의 도움을 받아 토니는 자신의 내면과 과거를 직시하며 진정한 영웅으로 성장해 나가는 이야기를 그립니다.')"
      ]
     },
     "execution_count": 3,
     "metadata": {},
     "output_type": "execute_result"
    }
   ],
   "source": [
    "\n",
    "from langchain.chat_models import ChatOpenAI\n",
    "from langchain.prompts.few_shot import FewShotChatMessagePromptTemplate\n",
    "from langchain.callbacks import StreamingStdOutCallbackHandler\n",
    "from langchain.prompts import ChatPromptTemplate\n",
    "\n",
    "chat = ChatOpenAI(\n",
    "    temperature=0.1,\n",
    "    streaming=True,\n",
    "    callbacks=[StreamingStdOutCallbackHandler()]\n",
    ")\n",
    "\n",
    "examples = [\n",
    "    {\n",
    "        \"movie_name\": \"저스티스리그\",\n",
    "        \"answer\": \"\"\"\n",
    "        궁금한 점을 알려줄께.\n",
    "        감독명: 잭 스나이더 (Zack Snyder)\n",
    "        주요 출연진: 벤 애플렉 (Ben Affleck) > 배트맨 / 브루스 웨인\n",
    "\n",
    "                    헨리 카빌 (Henry Cavill) > 슈퍼맨 / 클라크 켄트\n",
    "\n",
    "                    갤 가돗 (Gal Gadot) > 원더우먼 / 다이애나 프린스\n",
    "\n",
    "                    제이슨 모모아 (Jason Momoa) > 아쿠아맨 / 아서 커리\n",
    "\n",
    "                    에즈라 밀러 (Ezra Miller) > 플래시 / 배리 앨런\n",
    "\n",
    "                    레이 피셔 (Ray Fisher) > 사이보그 / 빅터 스톤\n",
    "        \n",
    "        제작 예산: 약 3억 달러 (약 300 million USD)\n",
    "        흥행 수익 (극장판 2017): 약 6억 5천 7백만 달러 (657 million USD)\n",
    "        장르: 슈퍼히어로, 액션, 판타지, 어드벤처, SF\n",
    "        시놉시스: 슈퍼맨의 죽음 이후, 지구는 새로운 위협에 직면하게 됩니다. 세계를 정복하려는 외계 존재 스테픈울프(Steppenwolf)와 그의 군대가 세 개의 마더박스를 결합하여 지구를 파괴하려 합니다.\n",
    "                 이를 막기 위해 배트맨은 원더우먼과 함께 메타휴먼(초능력자)들을 찾아 저스티스 리그를 결성합니다. 아쿠아맨, 플래시, 사이보그가 합류하고, 부활한 슈퍼맨까지 가세하여 인류의 운명을 건 전투에 나서게 됩니다.\n",
    "\n",
    "        \"\"\"\n",
    "    }\n",
    "]\n",
    "\n",
    "#예제의 형식을 지정하는 방법\n",
    "example_prompt = ChatPromptTemplate.from_messages(\n",
    "    [\n",
    "        (\"human\", \"What do you know about {movie_name}?\"),\n",
    "        (\"ai\", \"{answer}\"),\n",
    "    ]\n",
    ")\n",
    "\n",
    "example_prompt = FewShotChatMessagePromptTemplate(\n",
    "    example_prompt=example_prompt,\n",
    "    examples=examples,\n",
    ")\n",
    "\n",
    "final_prompt = ChatPromptTemplate.from_messages(\n",
    "    [\n",
    "        (\"system\", \"You are a movie expert, you give short answers.\"),\n",
    "        example_prompt,\n",
    "        (\"human\", \"What do you know about {movie_name}?\"),\n",
    "    ]\n",
    ")\n",
    "\n",
    "chain = final_prompt | chat\n",
    "\n",
    "chain.invoke({\"movie_name\": \"아이언맨3\"})"
   ]
  },
  {
   "cell_type": "code",
   "execution_count": null,
   "id": "40050559",
   "metadata": {},
   "outputs": [],
   "source": []
  }
 ],
 "metadata": {
  "kernelspec": {
   "display_name": "env",
   "language": "python",
   "name": "python3"
  },
  "language_info": {
   "codemirror_mode": {
    "name": "ipython",
    "version": 3
   },
   "file_extension": ".py",
   "mimetype": "text/x-python",
   "name": "python",
   "nbconvert_exporter": "python",
   "pygments_lexer": "ipython3",
   "version": "3.11.6"
  }
 },
 "nbformat": 4,
 "nbformat_minor": 5
}

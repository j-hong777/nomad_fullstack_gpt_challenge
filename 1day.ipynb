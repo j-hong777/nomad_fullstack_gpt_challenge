{
 "cells": [
  {
   "cell_type": "code",
   "execution_count": 1,
   "id": "9c14d3c0",
   "metadata": {},
   "outputs": [
    {
     "name": "stdout",
     "output_type": "stream",
     "text": [
      "확실해, Python으로 된 시를 만들어볼게:\n",
      "\n",
      "```python\n",
      "# Python의 아름다움\n",
      "\n",
      "print(\"Python이란 언어, 우아하고 아름다워\")\n",
      "print(\"들여쓰기로 블록을 구분하며, 코드를 읽기 쉽게 만들어\")\n",
      "print(\"모듈과 패키지로 기능을 확장하며, 효율적으로 작성해\")\n",
      "print(\"인터프리터 언어로, 즉시 실행되어 결과를 보여줘\")\n",
      "\n",
      "# Python의 힘\n",
      "\n",
      "print(\"데이터 분석, 인공지능, 웹 개발까지\")\n",
      "print(\"다양한 분야에서 활용되는 Python의 힘은 대단해\")\n",
      "print(\"라이브러리와 프레임워크로, 개발을 더욱 쉽게 만들어\")\n",
      "print(\"Python으로 세상을 바꾸는 프로젝트들이 끊이지 않아\")\n",
      "\n",
      "# Python의 미래\n",
      "\n",
      "print(\"계속 발전하는 Python, 더욱 강력해져\")\n",
      "print(\"커뮤니티와 개발자들이 함께 성장하며\")\n",
      "print(\"새로운 기술과 도전에 대처하며\")\n",
      "print(\"Python은 끝없는 가능성을 펼쳐나갈 것이다\")\n",
      "```\n",
      "\n",
      "이렇게 Python으로 된 시를 만들어봤어. Python의 아름다움, 힘, 그리고 미래에 대한 이야기를 담아냈어. 즐겁게 감상해보길 바래!이 시는 Python이라는 프로그래밍 언어의 아름다움, 힘, 그리고 미래에 대한 내용을 담고 있네요. Python의 우아함과 코드 가독성을 강조하며, 데이터 분석, 인공지능, 웹 개발 등 다양한 분야에서의 활용을 언급하고 있습니다. 또한 Python 커뮤니티와 개발자들의 성장, 새로운 기술과 도전에 대한 대처, 그리고 Python의 끝없는 가능성을 강조하고 있습니다. 이 시를 통해 Python이 가진 매력과 미래의 가능성을 잘 표현하고 있네요. 프로그래밍 언어로 된 시라는 참신한 아이디어도 좋습니다. 즐겁게 감상해보시기 바랍니다!"
     ]
    },
    {
     "data": {
      "text/plain": [
       "AIMessageChunk(content='이 시는 Python이라는 프로그래밍 언어의 아름다움, 힘, 그리고 미래에 대한 내용을 담고 있네요. Python의 우아함과 코드 가독성을 강조하며, 데이터 분석, 인공지능, 웹 개발 등 다양한 분야에서의 활용을 언급하고 있습니다. 또한 Python 커뮤니티와 개발자들의 성장, 새로운 기술과 도전에 대한 대처, 그리고 Python의 끝없는 가능성을 강조하고 있습니다. 이 시를 통해 Python이 가진 매력과 미래의 가능성을 잘 표현하고 있네요. 프로그래밍 언어로 된 시라는 참신한 아이디어도 좋습니다. 즐겁게 감상해보시기 바랍니다!')"
      ]
     },
     "execution_count": 1,
     "metadata": {},
     "output_type": "execute_result"
    }
   ],
   "source": [
    "from langchain.chat_models import ChatOpenAI\n",
    "from langchain.prompts import ChatPromptTemplate\n",
    "from langchain.callbacks import StreamingStdOutCallbackHandler\n",
    "\n",
    "chat = ChatOpenAI(temperature=0.1,\n",
    "                  model=\"gpt-3.5-turbo\",\n",
    "                  streaming=True,\n",
    "                  callbacks=[StreamingStdOutCallbackHandler()]\n",
    "                  ) \n",
    "                  \n",
    "\n",
    "poet_prompt = ChatPromptTemplate.from_messages([\n",
    "    (\"system\", \"너는 아주 유능한 시인이야. 모든 사람들은 너의 시를 보면 큰 감동을 받아. 특히 프로그래밍 언어에 대한 시를 매우 잘쓰는 시인이야\"),\n",
    "    (\"human\", \"내가 원하는 시는 {language} 프로그래밍 언어로 된 시야. 그 시를 만들어줘\"),\n",
    "])\n",
    "\n",
    "poet_chain = poet_prompt | chat\n",
    "\n",
    "narrate_prompt = ChatPromptTemplate.from_messages([\n",
    "    (\"system\", \"너는 시를 아주 잘 설명하는 나래이터야. 특히 프로그래밍 언어로 만든 시에 대한 해석을 매우 잘하고 많은 사람들한테 인정을 받아\"),\n",
    "    (\"human\", \"{program_lanquage}\")\n",
    "])\n",
    "\n",
    "narrate_chain = narrate_prompt | chat\n",
    "\n",
    "# chain에 context object를 입력\n",
    "final_chain = {\"program_lanquage\": poet_chain} | narrate_chain\n",
    "\n",
    "final_chain.invoke({\"language\": \"python\"})"
   ]
  }
 ],
 "metadata": {
  "kernelspec": {
   "display_name": "env",
   "language": "python",
   "name": "python3"
  },
  "language_info": {
   "codemirror_mode": {
    "name": "ipython",
    "version": 3
   },
   "file_extension": ".py",
   "mimetype": "text/x-python",
   "name": "python",
   "nbconvert_exporter": "python",
   "pygments_lexer": "ipython3",
   "version": "3.11.6"
  }
 },
 "nbformat": 4,
 "nbformat_minor": 5
}

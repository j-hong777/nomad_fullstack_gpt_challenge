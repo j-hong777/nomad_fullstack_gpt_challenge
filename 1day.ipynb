{
 "cells": [
  {
   "cell_type": "code",
   "execution_count": 2,
   "id": "9c14d3c0",
   "metadata": {},
   "outputs": [
    {
     "name": "stdout",
     "output_type": "stream",
     "text": [
      "확실해, Python으로 된 시를 만들어볼게:\n",
      "\n",
      "```python\n",
      "# Python의 아름다움\n",
      "\n",
      "print(\"Python이란 놀라운 언어,\")\n",
      "print(\"간결하고 강력한 문법을 지녔네.\")\n",
      "print(\"들여쓰기로 블록을 구분하고,\")\n",
      "print(\"코드가 읽기 쉽고 이해하기 쉬워.\")\n",
      "\n",
      "print(\"모듈과 패키지로 기능을 확장하며,\")\n",
      "print(\"라이브러리가 풍부해 개발이 즐거워.\")\n",
      "print(\"인터프리터 언어로 빠르게 실행되며,\")\n",
      "print(\"다양한 운영체제에서 동작이 가능해.\")\n",
      "\n",
      "print(\"Python, 너의 아름다움에\")\n",
      "print(\"매료되어 코딩에 빠져든다.\")\n",
      "print(\"문제 해결을 위한 최고의 선택,\")\n",
      "print(\"Python이여, 영원히 너를 사랑한다.\")\n",
      "```\n",
      "\n",
      "이렇게 Python으로 된 시를 만들어봤어. Python의 아름다움을 표현하고 싶어서 이런 시를 썼어. 마음에 드는지 확인해보고 싶어.이 시는 Python이라는 프로그래밍 언어의 아름다움을 아주 잘 담아냈네요. Python의 간결하고 강력한 문법, 코드의 가독성과 이해도, 모듈과 패키지를 통한 기능 확장, 다양한 운영체제에서의 호환성 등을 잘 표현했습니다. 또한 마지막 부분에서는 Python에 대한 애정과 사랑을 표현하여 감동적인 느낌을 줍니다.\n",
      "\n",
      "이 시는 Python을 좋아하는 사람들에게 큰 공감을 줄 것 같습니다. Python의 매력을 잘 담아내어 마음에 들었어요. 좋은 작품을 만들어 주셔서 감사합니다."
     ]
    },
    {
     "data": {
      "text/plain": [
       "AIMessageChunk(content='이 시는 Python이라는 프로그래밍 언어의 아름다움을 아주 잘 담아냈네요. Python의 간결하고 강력한 문법, 코드의 가독성과 이해도, 모듈과 패키지를 통한 기능 확장, 다양한 운영체제에서의 호환성 등을 잘 표현했습니다. 또한 마지막 부분에서는 Python에 대한 애정과 사랑을 표현하여 감동적인 느낌을 줍니다.\\n\\n이 시는 Python을 좋아하는 사람들에게 큰 공감을 줄 것 같습니다. Python의 매력을 잘 담아내어 마음에 들었어요. 좋은 작품을 만들어 주셔서 감사합니다.')"
      ]
     },
     "execution_count": 2,
     "metadata": {},
     "output_type": "execute_result"
    }
   ],
   "source": [
    "from langchain.chat_models import ChatOpenAI\n",
    "from langchain.prompts import ChatPromptTemplate\n",
    "from langchain.callbacks import StreamingStdOutCallbackHandler\n",
    "\n",
    "chat = ChatOpenAI(temperature=0.1,\n",
    "                  streaming=True,\n",
    "                  callbacks=[StreamingStdOutCallbackHandler()]\n",
    "                  ) \n",
    "                  \n",
    "\n",
    "poet_prompt = ChatPromptTemplate.from_messages([\n",
    "    (\"system\", \"너는 아주 유능한 시인이야. 모든 사람들은 너의 시를 보면 큰 감동을 받아. 특히 프로그래밍 언어에 대한 시를 매우 잘쓰는 시인이야\"),\n",
    "    (\"human\", \"내가 원하는 시는 {language} 프로그래밍 언어로 된 시야. 그 시를 만들어줘\"),\n",
    "])\n",
    "\n",
    "poet_chain = poet_prompt | chat\n",
    "\n",
    "narrate_prompt = ChatPromptTemplate.from_messages([\n",
    "    (\"system\", \"너는 시를 아주 잘 설명하는 나래이터야. 특히 프로그래밍 언어로 만든 시에 대한 해석을 매우 잘하고 많은 사람들한테 인정을 받아\"),\n",
    "    (\"human\", \"{program_lanquage}\")\n",
    "])\n",
    "\n",
    "narrate_chain = narrate_prompt | chat\n",
    "\n",
    "# chain에 context object를 입력\n",
    "final_chain = {\"program_lanquage\": poet_chain} | narrate_chain\n",
    "\n",
    "final_chain.invoke({\"language\": \"python\"})"
   ]
  }
 ],
 "metadata": {
  "kernelspec": {
   "display_name": "env",
   "language": "python",
   "name": "python3"
  },
  "language_info": {
   "codemirror_mode": {
    "name": "ipython",
    "version": 3
   },
   "file_extension": ".py",
   "mimetype": "text/x-python",
   "name": "python",
   "nbconvert_exporter": "python",
   "pygments_lexer": "ipython3",
   "version": "3.11.6"
  }
 },
 "nbformat": 4,
 "nbformat_minor": 5
}
